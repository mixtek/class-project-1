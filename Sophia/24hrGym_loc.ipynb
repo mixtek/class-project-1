{
 "cells": [
  {
   "cell_type": "markdown",
   "metadata": {},
   "source": [
    "** This file is to find the gym locations from Yelp **\n",
    "1. find the number of the gyms\n",
    "2. get the locations of the gyms\n",
    "3. output the coordinates of each gym to a csv file "
   ]
  },
  {
   "cell_type": "code",
   "execution_count": 19,
   "metadata": {},
   "outputs": [],
   "source": [
    "from config import API_KEY\n",
    "import requests\n",
    "import sample\n",
    "import pandas as pd"
   ]
  },
  {
   "cell_type": "code",
   "execution_count": 20,
   "metadata": {},
   "outputs": [],
   "source": [
    "API_HOST = 'https://api.yelp.com'\n",
    "SEARCH_PATH = '/v3/businesses/search'\n",
    "BUSINESS_PATH = '/v3/businesses'"
   ]
  },
  {
   "cell_type": "code",
   "execution_count": 21,
   "metadata": {},
   "outputs": [],
   "source": [
    "locations = [\"Austin,TX\"]\n",
    "term = \"gyms\"\n",
    "open_at = 1528961400  #6/14/2018 2:30 a.m. Austin time\n",
    "limit = 50\n",
    "final_file = \"Austin.csv\""
   ]
  },
  {
   "cell_type": "code",
   "execution_count": 22,
   "metadata": {},
   "outputs": [
    {
     "name": "stdout",
     "output_type": "stream",
     "text": [
      "Querying https://api.yelp.com/v3/businesses/search ...\n",
      "55 non-24-hr gyms in total\n",
      "0 : Life Time Fitness - {'latitude': 30.215458, 'longitude': -97.840105}\n",
      "1 : Anytime Fitness - {'latitude': 30.4171, 'longitude': -97.703761}\n",
      "2 : Anytime Fitness - {'latitude': 30.30057, 'longitude': -97.73923}\n",
      "3 : Anytime Fitness - {'latitude': 30.35508, 'longitude': -97.73323}\n",
      "4 : 24 Hour Fitness - Hancock Center - {'latitude': 30.301434809559, 'longitude': -97.72055964814}\n",
      "5 : Anytime Fitness - {'latitude': 30.4018662998415, 'longitude': -97.8534534505613}\n",
      "6 : Anytime Fitness - {'latitude': 30.456559, 'longitude': -97.76716}\n",
      "7 : Bee Cave Fitness - {'latitude': 30.33811, 'longitude': -97.97113}\n",
      "8 : Life Time Fitness - {'latitude': 30.472509, 'longitude': -97.774084}\n",
      "9 : Planet Fitness - Austin - E. Riverside - {'latitude': 30.23452, 'longitude': -97.721}\n",
      "10 : Anytime Fitness - {'latitude': 30.372375, 'longitude': -97.802626}\n",
      "11 : 24 Hour Fitness - William Cannon - {'latitude': 30.2219745482289, 'longitude': -97.8433797446927}\n",
      "12 : Planet Fitness - Austin - W. Anderson Lane - {'latitude': 30.3493069857359, 'longitude': -97.7164021879435}\n",
      "13 : 24 Hour Fitness - Parmer - {'latitude': 30.4031757373917, 'longitude': -97.6758599281311}\n",
      "14 : 24 Hour Fitness - Austin - {'latitude': 30.3973124348539, 'longitude': -97.7476091609955}\n",
      "15 : Planet Fitness - Austin - Slaughter Lane - {'latitude': 30.1694691973317, 'longitude': -97.8246688842773}\n",
      "16 : Hill Country Fitness - {'latitude': 30.31011, 'longitude': -97.94228}\n",
      "17 : 24 Hour Fitness - Lake Creek - {'latitude': 30.4630298614502, 'longitude': -97.7959213256836}\n",
      "18 : Anytime Fitness - {'latitude': 30.1927, 'longitude': -97.9252999}\n",
      "19 : Planet Fitness - Austin, TX - {'latitude': 30.209271, 'longitude': -97.815057}\n",
      "20 : BodyWise Gym - {'latitude': 30.3904859, 'longitude': -97.9384095}\n",
      "21 : Relative Fitness Austin - {'latitude': 30.2193908691406, 'longitude': -97.7475433349609}\n",
      "22 : Planet Fitness - Austin, TX - {'latitude': 30.19169, 'longitude': -97.76877}\n",
      "23 : Camp Gladiator - {'latitude': 30.2647705078125, 'longitude': -97.7871627807617}\n",
      "24 : HT Fitness - {'latitude': 30.3503, 'longitude': -97.5471}\n",
      "25 : Anytime Fitness - {'latitude': 30.5217202391253, 'longitude': -97.7748708771724}\n",
      "26 : Glitter & Grit - {'latitude': 30.30254, 'longitude': -97.69826}\n",
      "27 : Anytime Fitness - {'latitude': 30.324231, 'longitude': -97.959444}\n",
      "28 : 24 Hour Fitness - Pflugerville - {'latitude': 30.4661280169141, 'longitude': -97.6007790996174}\n",
      "29 : Vetra Fitness - {'latitude': 30.2347684, 'longitude': -97.7902746}\n",
      "30 : Planet Fitness - Pflugerville - {'latitude': 30.4501094818115, 'longitude': -97.6565704345703}\n",
      "31 : Dynasty Fitness - {'latitude': 30.227987, 'longitude': -97.718338}\n",
      "32 : Anytime Fitness - {'latitude': 30.11003, 'longitude': -97.34927}\n",
      "33 : Anytime Fitness - {'latitude': 30.44748, 'longitude': -97.64896}\n",
      "34 : Anytime Fitness - {'latitude': 30.47801, 'longitude': -97.81865}\n",
      "35 : Planet Fitness - Austin - Round Rock - {'latitude': 30.5187017179697, 'longitude': -97.6846864857366}\n",
      "36 : Anytime Fitness - {'latitude': 30.49697, 'longitude': -97.647021}\n",
      "37 : Anytime Fitness - {'latitude': 30.58377, 'longitude': -97.41236}\n",
      "38 : Anytime Fitness - {'latitude': 30.34746, 'longitude': -97.38475}\n",
      "39 : Anytime Fitness - {'latitude': 30.003999, 'longitude': -97.864441}\n",
      "40 : Anytime Fitness - {'latitude': 30.5131568908691, 'longitude': -97.7027587890625}\n",
      "41 : Gardenhouse Pilates - {'latitude': 30.1976395, 'longitude': -97.816803}\n",
      "42 : Anytime Fitness - {'latitude': 29.9969577789307, 'longitude': -98.1006240844727}\n",
      "43 : Anytime Fitness - {'latitude': 30.08825, 'longitude': -97.8228199}\n",
      "44 : Anytime Fitness - {'latitude': 30.54028, 'longitude': -97.84889}\n",
      "45 : 24 Hour Fitness - Round Rock - {'latitude': 30.5192941787021, 'longitude': -97.6902499311956}\n",
      "46 : East West Retreats - {'latitude': 30.2675895690918, 'longitude': -97.7429885864258}\n",
      "47 : Anytime Fitness - {'latitude': 30.1923898, 'longitude': -98.0980348}\n",
      "48 : Anytime Fitness - {'latitude': 30.54315, 'longitude': -97.55571}\n",
      "49 : Anytime Fitness - {'latitude': 30.5656556, 'longitude': -97.6642761}\n",
      "offset: 50\n",
      "Querying https://api.yelp.com/v3/businesses/search ...\n",
      "5 non-24-hr gyms left\n",
      "50 : Fitness Mastermind, LLC - {'latitude': 30.51813, 'longitude': -97.69423}\n",
      "51 : SafeGuard Aquatics - {'latitude': 30.44697, 'longitude': -97.77628}\n",
      "52 : Health and Soul Fitness - {'latitude': 30.51786, 'longitude': -97.83702}\n",
      "53 : Paddle SMTX - {'latitude': 29.87508, 'longitude': -97.93023}\n",
      "54 : Living Waters On Lake Travis - {'latitude': 30.4328098297119, 'longitude': -98.0704193115234}\n"
     ]
    }
   ],
   "source": [
    "gym = []\n",
    "lat = []\n",
    "long = []\n",
    "\n",
    "# get the locations of 24-hr gyms\n",
    "for location in locations:\n",
    "    params={\n",
    "        \"term\" : term,\n",
    "        \"location\" : location,\n",
    "        \"open_at\" : open_at,\n",
    "        \"limit\" : limit,\n",
    "        \"offset\" : 0\n",
    "    }\n",
    "    \n",
    "    response = sample.request(API_HOST, SEARCH_PATH, API_KEY, params)\n",
    "    total_gym = response['total']\n",
    "    \n",
    "    \n",
    "    print(f\"{total_gym} non-24-hr gyms in total\")\n",
    "    \n",
    "    offset_time = int(total_gym/limit)\n",
    "    \n",
    "    \n",
    "    for i in range(limit):\n",
    "        print(i, \":\", response['businesses'][i]['name'], \"-\", response['businesses'][i]['coordinates'])\n",
    "        gym.append(response['businesses'][i]['name'])\n",
    "        lat.append(response['businesses'][i]['coordinates']['latitude'])\n",
    "        long.append(response['businesses'][i]['coordinates']['longitude'])\n",
    "    \n",
    "    if (offset_time != 0):\n",
    "        for run in range(offset_time):\n",
    "            offset = (run+1)*limit\n",
    "            params={\n",
    "                \"term\" : term,\n",
    "                \"location\" : location,\n",
    "                \"open_at\" : open_at,\n",
    "                \"limit\" : limit,\n",
    "                \"offset\" : offset\n",
    "            }\n",
    "            print (\"offset:\",offset)\n",
    "            \n",
    "            response = sample.request(API_HOST, SEARCH_PATH, API_KEY, params)\n",
    "            total_gym = response['total']\n",
    "            print(f\"{total_gym-offset} non-24-hr gyms left\")\n",
    "            \n",
    "            try:\n",
    "                for i in range(limit):\n",
    "                    gym.append(response['businesses'][i]['name'])\n",
    "                    lat.append(response['businesses'][i]['coordinates']['latitude'])\n",
    "                    long.append(response['businesses'][i]['coordinates']['longitude'])\n",
    "                    print(i+offset, \":\", response['businesses'][i]['name'], \"-\", response['businesses'][i]['coordinates'])\n",
    "                    \n",
    "            \n",
    "            except IndexError:\n",
    "                break\n",
    "\n",
    "        \n",
    "  "
   ]
  },
  {
   "cell_type": "code",
   "execution_count": 23,
   "metadata": {},
   "outputs": [
    {
     "data": {
      "text/plain": [
       "55"
      ]
     },
     "execution_count": 23,
     "metadata": {},
     "output_type": "execute_result"
    }
   ],
   "source": [
    "total_gym"
   ]
  },
  {
   "cell_type": "code",
   "execution_count": 16,
   "metadata": {},
   "outputs": [
    {
     "data": {
      "text/plain": [
       "113"
      ]
     },
     "execution_count": 16,
     "metadata": {},
     "output_type": "execute_result"
    }
   ],
   "source": [
    "len(long)"
   ]
  },
  {
   "cell_type": "code",
   "execution_count": 17,
   "metadata": {},
   "outputs": [],
   "source": [
    "gym_loc = pd.DataFrame({\n",
    "    \"Name\" : gym,\n",
    "    \"Lat\" : lat,\n",
    "    \"Long\" : long\n",
    "})"
   ]
  },
  {
   "cell_type": "code",
   "execution_count": 18,
   "metadata": {},
   "outputs": [],
   "source": [
    "gym_loc.to_csv(final_file, index=False)"
   ]
  },
  {
   "cell_type": "code",
   "execution_count": null,
   "metadata": {},
   "outputs": [],
   "source": []
  },
  {
   "cell_type": "code",
   "execution_count": null,
   "metadata": {},
   "outputs": [],
   "source": []
  },
  {
   "cell_type": "code",
   "execution_count": null,
   "metadata": {},
   "outputs": [],
   "source": []
  },
  {
   "cell_type": "code",
   "execution_count": null,
   "metadata": {},
   "outputs": [],
   "source": []
  },
  {
   "cell_type": "code",
   "execution_count": null,
   "metadata": {},
   "outputs": [],
   "source": []
  },
  {
   "cell_type": "code",
   "execution_count": null,
   "metadata": {},
   "outputs": [],
   "source": []
  },
  {
   "cell_type": "code",
   "execution_count": null,
   "metadata": {},
   "outputs": [],
   "source": []
  },
  {
   "cell_type": "code",
   "execution_count": null,
   "metadata": {},
   "outputs": [],
   "source": []
  },
  {
   "cell_type": "code",
   "execution_count": null,
   "metadata": {},
   "outputs": [],
   "source": []
  }
 ],
 "metadata": {
  "kernelspec": {
   "display_name": "Python [conda env:PythonData]",
   "language": "python",
   "name": "conda-env-PythonData-py"
  },
  "language_info": {
   "codemirror_mode": {
    "name": "ipython",
    "version": 3
   },
   "file_extension": ".py",
   "mimetype": "text/x-python",
   "name": "python",
   "nbconvert_exporter": "python",
   "pygments_lexer": "ipython3",
   "version": "3.6.4"
  }
 },
 "nbformat": 4,
 "nbformat_minor": 2
}
