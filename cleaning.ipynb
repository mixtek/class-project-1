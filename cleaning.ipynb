{
 "cells": [
  {
   "cell_type": "markdown",
   "metadata": {},
   "source": [
    "# Data Cleaning"
   ]
  },
  {
   "cell_type": "code",
   "execution_count": 886,
   "metadata": {},
   "outputs": [],
   "source": [
    "# Import dependencies\n",
    "import pandas as pd"
   ]
  },
  {
   "cell_type": "code",
   "execution_count": 887,
   "metadata": {},
   "outputs": [],
   "source": [
    "# Store file names, desired areas, and desired states in lists\n",
    "file_names = [\"lat_lon\", \"population\", \"commute\",\\\n",
    "             \"atlanta_housing\", \"chicago_housing\", \"dallas_housing\", \"denver_housing\"]\n",
    "areas = [\"Atlanta\", \"Chicago\", \"Dallas\", \"Denver\", \"Detroit\", \"Los Angeles\", \"Miami\", \"New York\", \"Philadelphia\"]\n",
    "areas = sorted(areas)\n",
    "state = [\"GA\", \"IL\", \"TX\", \"CO\", \"IL\", \"MI\", \"CA\", \"FL\", \"PA\", \"NY\"]"
   ]
  },
  {
   "cell_type": "code",
   "execution_count": 888,
   "metadata": {},
   "outputs": [],
   "source": [
    "# define function to read csv files:\n",
    "def get_file():\n",
    "    global df\n",
    "    data = pd.read_csv(f\"resources/{file_name}.csv\", encoding=\"ISO-8859-1\", header=None, error_bad_lines=False)  \n",
    "    df = pd.DataFrame(data)\n",
    "    print(f\"\\nraw: {file_name}\")\n",
    "    return df"
   ]
  },
  {
   "cell_type": "markdown",
   "metadata": {},
   "source": [
    "# Latitudes and Longitudes"
   ]
  },
  {
   "cell_type": "code",
   "execution_count": 889,
   "metadata": {
    "scrolled": false
   },
   "outputs": [
    {
     "name": "stdout",
     "output_type": "stream",
     "text": [
      "\n",
      "raw: lat_lon\n",
      "  state           area  latitude  longitude\n",
      "2    NY       Valhalla   41.0877   -73.7768\n",
      "3    PA     Pittsburgh   40.4495   -79.9880\n",
      "4    MO      Bridgeton   38.7667   -90.4201\n",
      "5    CA  San Francisco   37.7353  -122.3732\n",
      "6    NY       New York   40.7528   -73.9725\n",
      "\n",
      "\n",
      "clean: lat_lon\n",
      "           area state  latitude  longitude\n",
      "0       Atlanta    GA   33.7490   -84.3880\n",
      "1       Chicago    IL   41.8119   -87.6873\n",
      "2        Dallas    TX   32.7155   -96.7684\n",
      "3        Denver    IA   42.6863   -92.3417\n",
      "4       Detroit    MI   42.3314   -83.0457\n",
      "5   Los Angeles    CA   34.0522  -118.2437\n",
      "6         Miami    FL   25.7743   -80.1937\n",
      "7      New York    NY   40.7391   -73.9826\n",
      "8  Philadelphia    PA   39.9767   -75.2586\n",
      "\n",
      "\n",
      "final:\n",
      "           area state  latitude  longitude\n",
      "0       Atlanta    GA   33.7490   -84.3880\n",
      "1       Chicago    IL   41.8119   -87.6873\n",
      "2        Dallas    TX   32.7155   -96.7684\n",
      "3        Denver    IA   42.6863   -92.3417\n",
      "4       Detroit    MI   42.3314   -83.0457\n",
      "5   Los Angeles    CA   34.0522  -118.2437\n",
      "6         Miami    FL   25.7743   -80.1937\n",
      "7      New York    NY   40.7391   -73.9826\n",
      "8  Philadelphia    PA   39.9767   -75.2586\n"
     ]
    }
   ],
   "source": [
    "# extract latitudes and longitudes\n",
    "file_name = \"lat_lon\"\n",
    "\n",
    "# Get raw data from all files and print out\n",
    "get_file()\n",
    "df = df.loc[2:, [2,3,5,6]]\n",
    "columns = [\"state\", \"area\", \"latitude\", \"longitude\"]\n",
    "df.columns = columns\n",
    "print(df.head())\n",
    "\n",
    "# Get desired data from DataFrame:\n",
    "df = df.loc[df[\"area\"].isin(areas)]\n",
    "df = df.sort_values(\"area\")\n",
    "df = df.groupby(\"area\").first().reset_index()\n",
    "df = df.iloc[:len(areas),:]\n",
    "output_columns = [\"area\", \"state\", \"latitude\", \"longitude\"]\n",
    "df.columns = output_columns\n",
    "print(f\"\\n\\nclean: {file_name}\")\n",
    "print(df)\n",
    "print(\"\\n\\nfinal:\")\n",
    "mega_df = df\n",
    "print(mega_df)"
   ]
  },
  {
   "cell_type": "markdown",
   "metadata": {},
   "source": [
    "# Population"
   ]
  },
  {
   "cell_type": "code",
   "execution_count": 892,
   "metadata": {},
   "outputs": [
    {
     "name": "stdout",
     "output_type": "stream",
     "text": [
      "\n",
      "raw: population\n",
      "                                                    2         3\n",
      "3   Los Angeles-Long Beach-Anaheim, CA Metro Area;...  13189366\n",
      "4     Denver-Aurora-Lakewood, CO Metro Area; Colorado   2752056\n",
      "5   Miami-Fort Lauderdale-West Palm Beach, FL Metr...   5926955\n",
      "6   Atlanta-Sandy Springs-Roswell, GA Metro Area; ...   5612777\n",
      "7   Chicago-Naperville-Elgin, IL-IN-WI Metro Area ...   8656303\n",
      "8    Detroit-Warren-Dearborn, MI Metro Area; Michigan   4296731\n",
      "9   New York-Newark-Jersey City, NY-NJ-PA Metro Ar...  13380318\n",
      "10  Philadelphia-Camden-Wilmington, PA-NJ-DE-MD Me...   4076378\n",
      "11  Dallas-Fort Worth-Arlington, TX Metro Area; Texas   6957123\n",
      "\n",
      "\n",
      "clean: population\n",
      "           area population\n",
      "0       Atlanta    5612777\n",
      "1       Chicago    8656303\n",
      "2        Dallas    6957123\n",
      "3        Denver    2752056\n",
      "4       Detroit    4296731\n",
      "5   Los Angeles   13189366\n",
      "6         Miami    5926955\n",
      "7      New York   13380318\n",
      "8  Philadelphia    4076378\n",
      "\n",
      "\n",
      "final:\n",
      "           area state latitude longitude population\n",
      "0       Atlanta    GA   33.749   -84.388    5612777\n",
      "1       Chicago    IL  41.8119  -87.6873    8656303\n",
      "2        Dallas    TX  32.7155  -96.7684    6957123\n",
      "3        Denver    IA  42.6863  -92.3417    2752056\n",
      "4       Detroit    MI  42.3314  -83.0457    4296731\n",
      "5   Los Angeles    CA  34.0522  -118.244   13189366\n",
      "6         Miami    FL  25.7743  -80.1937    5926955\n",
      "7      New York    NY  40.7391  -73.9826   13380318\n",
      "8  Philadelphia    PA  39.9767  -75.2586    4076378\n"
     ]
    }
   ],
   "source": [
    "# Variables\n",
    "file_name = \"population\"\n",
    "\n",
    "# Get raw data from all files and print out\n",
    "get_file()\n",
    "df = df.iloc[3:(3+len(areas)), [2,3]]\n",
    "print(df)\n",
    "\n",
    "# Get data for desired areas\n",
    "columns = [\"metro\", file_name]\n",
    "df.columns = columns\n",
    "df[\"area\"] = df[\"metro\"].str.split('-', 1).str[0]\n",
    "del df[\"metro\"]\n",
    "columns = [\"area\", file_name]\n",
    "df = df[columns].sort_values(\"area\")\n",
    "df = df.reset_index(drop=True)\n",
    "df = df.dropna()\n",
    "print(f\"\\n\\nclean: {file_name}\")\n",
    "print(df)\n",
    "\n",
    "mega_df = pd.concat([mega_df, df], axis=1)\n",
    "mega_df = mega_df.T.drop_duplicates().T\n",
    "print(\"\\n\\nfinal:\")\n",
    "print(mega_df)"
   ]
  },
  {
   "cell_type": "markdown",
   "metadata": {},
   "source": [
    "# Commute"
   ]
  },
  {
   "cell_type": "code",
   "execution_count": 893,
   "metadata": {},
   "outputs": [],
   "source": [
    "# Define function to extract latitudes and longitudes\n",
    "def commute():\n",
    "    file_name = \"commute\"\n",
    "    global df\n",
    "    global mega_df\n",
    "    # Get raw data from all files and print out\n",
    "    get_file()\n",
    "    df = df.loc[2:, [2,3]]\n",
    "    print(df)\n",
    "    # Get data for desired areas\n",
    "    columns = [\"metro\", file_name]\n",
    "    df.columns = columns\n",
    "    df.loc[range(len(areas)), columns]\n",
    "    df[\"area\"] = df[\"metro\"].str.split('-', 1).str[0]\n",
    "    del df[\"metro\"]\n",
    "    columns = [\"area\", file_name]\n",
    "    df = df[columns].sort_values(\"area\")\n",
    "    df = df.reset_index(drop=True)\n",
    "    df = df.loc[range(len(areas)), :]\n",
    "    print(f\"\\n\\nclean: {file_name}\")\n",
    "    print(df)\n",
    "    mega_df = pd.concat([mega_df, df], axis=1)\n",
    "    mega_df = mega_df.T.drop_duplicates().T\n",
    "    print(\"\\n\\nfinal:\")\n",
    "    print(mega_df)"
   ]
  },
  {
   "cell_type": "code",
   "execution_count": 894,
   "metadata": {},
   "outputs": [
    {
     "name": "stdout",
     "output_type": "stream",
     "text": [
      "\n",
      "raw: commute\n",
      "                                                    2          3\n",
      "2   Los Angeles-Long Beach-Anaheim, CA Metro Area;...  171087545\n",
      "3     Denver-Aurora-Lakewood, CO Metro Area; Colorado   36188125\n",
      "4   Miami-Fort Lauderdale-West Palm Beach, FL Metr...   74035650\n",
      "5   Atlanta-Sandy Springs-Roswell, GA Metro Area; ...   75949245\n",
      "6   Chicago-Naperville-Elgin, IL-IN-WI Metro Area ...  125086155\n",
      "7    Detroit-Warren-Dearborn, MI Metro Area; Michigan   49061055\n",
      "8   New York-Newark-Jersey City, NY-NJ-PA Metro Ar...  225622415\n",
      "9   Philadelphia-Camden-Wilmington, PA-NJ-DE-MD Me...   54031170\n",
      "10  Dallas-Fort Worth-Arlington, TX Metro Area; Texas   88686850\n",
      "\n",
      "\n",
      "clean: commute\n",
      "           area    commute\n",
      "0       Atlanta   75949245\n",
      "1       Chicago  125086155\n",
      "2        Dallas   88686850\n",
      "3        Denver   36188125\n",
      "4       Detroit   49061055\n",
      "5   Los Angeles  171087545\n",
      "6         Miami   74035650\n",
      "7      New York  225622415\n",
      "8  Philadelphia   54031170\n",
      "\n",
      "\n",
      "final:\n",
      "           area state latitude longitude population    commute\n",
      "0       Atlanta    GA   33.749   -84.388    5612777   75949245\n",
      "1       Chicago    IL  41.8119  -87.6873    8656303  125086155\n",
      "2        Dallas    TX  32.7155  -96.7684    6957123   88686850\n",
      "3        Denver    IA  42.6863  -92.3417    2752056   36188125\n",
      "4       Detroit    MI  42.3314  -83.0457    4296731   49061055\n",
      "5   Los Angeles    CA  34.0522  -118.244   13189366  171087545\n",
      "6         Miami    FL  25.7743  -80.1937    5926955   74035650\n",
      "7      New York    NY  40.7391  -73.9826   13380318  225622415\n",
      "8  Philadelphia    PA  39.9767  -75.2586    4076378   54031170\n"
     ]
    },
    {
     "name": "stderr",
     "output_type": "stream",
     "text": [
      "/anaconda3/envs/PythonData/lib/python3.6/site-packages/ipykernel/__main__.py:13: FutureWarning: \n",
      "Passing list-likes to .loc or [] with any missing label will raise\n",
      "KeyError in the future, you can use .reindex() as an alternative.\n",
      "\n",
      "See the documentation here:\n",
      "http://pandas.pydata.org/pandas-docs/stable/indexing.html#deprecate-loc-reindex-listlike\n"
     ]
    }
   ],
   "source": [
    "# Global variables\n",
    "file_name = \"commute\"\n",
    "\n",
    "# Call functions and get latitudes and longitudes\n",
    "commute()"
   ]
  },
  {
   "cell_type": "code",
   "execution_count": null,
   "metadata": {},
   "outputs": [],
   "source": []
  }
 ],
 "metadata": {
  "kernelspec": {
   "display_name": "Python [conda env:PythonData]",
   "language": "python",
   "name": "conda-env-PythonData-py"
  },
  "language_info": {
   "codemirror_mode": {
    "name": "ipython",
    "version": 3
   },
   "file_extension": ".py",
   "mimetype": "text/x-python",
   "name": "python",
   "nbconvert_exporter": "python",
   "pygments_lexer": "ipython3",
   "version": "3.6.4"
  }
 },
 "nbformat": 4,
 "nbformat_minor": 2
}
