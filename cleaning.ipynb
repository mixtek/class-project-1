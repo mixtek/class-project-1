{
 "cells": [
  {
   "cell_type": "markdown",
   "metadata": {},
   "source": [
    "# Data Cleaning"
   ]
  },
  {
   "cell_type": "code",
   "execution_count": 27,
   "metadata": {},
   "outputs": [],
   "source": [
    "# Import dependencies\n",
    "import pandas as pd"
   ]
  },
  {
   "cell_type": "code",
   "execution_count": 28,
   "metadata": {},
   "outputs": [],
   "source": [
    "# Store file names, desired areas, and desired states in lists\n",
    "file_names = [\"lat_lon\", \"population\", \"commute\",\\\n",
    "             \"atlanta_housing\", \"chicago_housing\", \"dallas_housing\", \"denver_housing\"]\n",
    "areas = [\"Atlanta\", \"Chicago\", \"Dallas\", \"Denver\", \"Detroit\", \"Los Angeles\", \"Miami\", \"New York\", \"Philadelphia\"]\n",
    "states = [\"GA\", \"IL\", \"TX\", \"CO\", \"MI\", \"CA\", \"FL\", \"NY\", \"PA\"]\n",
    "\n",
    "#areas = [\"Atlanta\", \"Boston\", \"Chicago\", \"Dallas\", \"Denver\", \"Los Angeles\", \"New York\", \"St Louis\"]\n",
    "#states = [\"GA\", \"MA\", \"IL\", \"TX\", \"CO\", \"CA\", \"NY\", \"MO\"]\n",
    "\n",
    "areas = sorted(areas)"
   ]
  },
  {
   "cell_type": "code",
   "execution_count": 29,
   "metadata": {},
   "outputs": [],
   "source": [
    "# define function to read csv files:\n",
    "def get_file():\n",
    "    global df\n",
    "    data = pd.read_csv(f\"resources/{file_name}.csv\", encoding=\"ISO-8859-1\", header=None, error_bad_lines=False)  \n",
    "    df = pd.DataFrame(data)\n",
    "    print(f\"\\nraw: {file_name}\")\n",
    "    return df"
   ]
  },
  {
   "cell_type": "markdown",
   "metadata": {},
   "source": [
    "# Latitudes and Longitudes"
   ]
  },
  {
   "cell_type": "code",
   "execution_count": 30,
   "metadata": {
    "scrolled": false
   },
   "outputs": [
    {
     "name": "stdout",
     "output_type": "stream",
     "text": [
      "\n",
      "raw: lat_lon\n",
      "\n",
      "\n",
      "clean: lat_lon\n",
      "\n",
      "\n",
      "final:\n",
      "  state          area  latitude  longitude\n",
      "0    GA       Atlanta   33.8477   -84.2814\n",
      "1    IL       Chicago   41.9288   -87.6315\n",
      "2    TX        Dallas   32.7825   -96.8207\n",
      "3    CO        Denver   39.7525  -104.9995\n",
      "4    MI       Detroit   42.3679   -83.1386\n",
      "5    CA   Los Angeles   34.0396  -118.2661\n",
      "6    FL         Miami   25.9388   -80.2144\n",
      "7    NY      New York   40.7528   -73.9725\n",
      "8    PA  Philadelphia   39.9524   -75.1653\n"
     ]
    }
   ],
   "source": [
    "# extract latitudes and longitudes\n",
    "file_name = \"lat_lon\"\n",
    "\n",
    "# Get raw data from all files and print out\n",
    "get_file()\n",
    "df = df.reset_index()\n",
    "df = df.loc[2:, [2,3,5,6]]\n",
    "columns = [\"state\", \"area\", \"latitude\", \"longitude\"]\n",
    "df.columns = columns\n",
    "\n",
    "# Get desired data from DataFrame:\n",
    "df_list = pd.DataFrame(columns=columns, data=None)\n",
    "\n",
    "# Loop through area list and state list to get data\n",
    "for i in range(len(areas)):\n",
    "    df_i = df.loc[(df[\"area\"]==areas[i]) & (df[\"state\"]==states[i])]\n",
    "    df_i = df_i.groupby(\"area\").first().reset_index()\n",
    "    df_list = df_list.append(df_i)\n",
    "df = pd.DataFrame(columns=columns, data=df_list)\n",
    "\n",
    "# Adjust display of data\n",
    "df = df.iloc[:(len(areas)+1),:]\n",
    "df = df.reset_index(drop=True)\n",
    "print(f\"\\n\\nclean: {file_name}\")\n",
    "print(\"\\n\\nfinal:\")\n",
    "mega_df = df\n",
    "print(mega_df)"
   ]
  },
  {
   "cell_type": "markdown",
   "metadata": {},
   "source": [
    "# Population"
   ]
  },
  {
   "cell_type": "code",
   "execution_count": 31,
   "metadata": {},
   "outputs": [
    {
     "name": "stdout",
     "output_type": "stream",
     "text": [
      "\n",
      "raw: population\n",
      "                                                    2         3\n",
      "3   Los Angeles-Long Beach-Anaheim, CA Metro Area;...  13189366\n",
      "4     Denver-Aurora-Lakewood, CO Metro Area; Colorado   2752056\n",
      "5   Miami-Fort Lauderdale-West Palm Beach, FL Metr...   5926955\n",
      "6   Atlanta-Sandy Springs-Roswell, GA Metro Area; ...   5612777\n",
      "7   Chicago-Naperville-Elgin, IL-IN-WI Metro Area ...   8656303\n",
      "8    Detroit-Warren-Dearborn, MI Metro Area; Michigan   4296731\n",
      "9   New York-Newark-Jersey City, NY-NJ-PA Metro Ar...  13380318\n",
      "10  Philadelphia-Camden-Wilmington, PA-NJ-DE-MD Me...   4076378\n",
      "11  Dallas-Fort Worth-Arlington, TX Metro Area; Texas   6957123\n",
      "\n",
      "\n",
      "clean: population\n",
      "           area population\n",
      "0       Atlanta    5612777\n",
      "1       Chicago    8656303\n",
      "2        Dallas    6957123\n",
      "3        Denver    2752056\n",
      "4       Detroit    4296731\n",
      "5   Los Angeles   13189366\n",
      "6         Miami    5926955\n",
      "7      New York   13380318\n",
      "8  Philadelphia    4076378\n",
      "\n",
      "\n",
      "final:\n",
      "  state          area latitude longitude population\n",
      "0    GA       Atlanta  33.8477  -84.2814    5612777\n",
      "1    IL       Chicago  41.9288  -87.6315    8656303\n",
      "2    TX        Dallas  32.7825  -96.8207    6957123\n",
      "3    CO        Denver  39.7525  -104.999    2752056\n",
      "4    MI       Detroit  42.3679  -83.1386    4296731\n",
      "5    CA   Los Angeles  34.0396  -118.266   13189366\n",
      "6    FL         Miami  25.9388  -80.2144    5926955\n",
      "7    NY      New York  40.7528  -73.9725   13380318\n",
      "8    PA  Philadelphia  39.9524  -75.1653    4076378\n"
     ]
    }
   ],
   "source": [
    "# Variables\n",
    "file_name = \"population\"\n",
    "\n",
    "# Get raw data from all files and print out\n",
    "get_file()\n",
    "df = df.iloc[3:(3+len(areas)), [2,3]]\n",
    "print(df)\n",
    "\n",
    "# Get data for desired areas\n",
    "columns = [\"metro\", file_name]\n",
    "df.columns = columns\n",
    "df[\"area\"] = df[\"metro\"].str.split('-', 1).str[0]\n",
    "del df[\"metro\"]\n",
    "columns = [\"area\", file_name]\n",
    "df = df[columns].sort_values(\"area\")\n",
    "df = df.reset_index(drop=True)\n",
    "df = df.dropna()\n",
    "print(f\"\\n\\nclean: {file_name}\")\n",
    "print(df)\n",
    "\n",
    "mega_df = pd.concat([mega_df, df], axis=1)\n",
    "mega_df = mega_df.T.drop_duplicates().T\n",
    "print(\"\\n\\nfinal:\")\n",
    "print(mega_df)"
   ]
  },
  {
   "cell_type": "markdown",
   "metadata": {},
   "source": [
    "# Commute"
   ]
  },
  {
   "cell_type": "code",
   "execution_count": 32,
   "metadata": {},
   "outputs": [],
   "source": [
    "# Define function to extract latitudes and longitudes\n",
    "def commute():\n",
    "    file_name = \"commute\"\n",
    "    global df\n",
    "    global mega_df\n",
    "    # Get raw data from all files and print out\n",
    "    get_file()\n",
    "    df = df.loc[2:, [2,3]]\n",
    "    print(df)\n",
    "    # Get data for desired areas\n",
    "    columns = [\"metro\", file_name]\n",
    "    df.columns = columns\n",
    "    df.loc[range(len(areas)), columns]\n",
    "    df[\"area\"] = df[\"metro\"].str.split('-', 1).str[0]\n",
    "    del df[\"metro\"]\n",
    "    columns = [\"area\", file_name]\n",
    "    df = df[columns].sort_values(\"area\")\n",
    "    df = df.reset_index(drop=True)\n",
    "    df = df.loc[range(len(areas)), :]\n",
    "    print(f\"\\n\\nclean: {file_name}\")\n",
    "    print(df)\n",
    "    mega_df = pd.concat([mega_df, df], axis=1)\n",
    "    mega_df = mega_df.T.drop_duplicates().T\n",
    "    \n",
    "    # Add calucation column to mega_df\n",
    "    values = mega_df[\"commute\"].astype(float)/mega_df[\"population\"].astype(float)\n",
    "    mega_df[\"commute/person\"] = values\n",
    "    del(mega_df[\"commute\"])\n",
    "    print(\"\\n\\nfinal:\")\n",
    "    print(mega_df)"
   ]
  },
  {
   "cell_type": "code",
   "execution_count": 33,
   "metadata": {
    "scrolled": false
   },
   "outputs": [
    {
     "name": "stdout",
     "output_type": "stream",
     "text": [
      "\n",
      "raw: commute\n",
      "                                                    2          3\n",
      "2   Los Angeles-Long Beach-Anaheim, CA Metro Area;...  171087545\n",
      "3     Denver-Aurora-Lakewood, CO Metro Area; Colorado   36188125\n",
      "4   Miami-Fort Lauderdale-West Palm Beach, FL Metr...   74035650\n",
      "5   Atlanta-Sandy Springs-Roswell, GA Metro Area; ...   75949245\n",
      "6   Chicago-Naperville-Elgin, IL-IN-WI Metro Area ...  125086155\n",
      "7    Detroit-Warren-Dearborn, MI Metro Area; Michigan   49061055\n",
      "8   New York-Newark-Jersey City, NY-NJ-PA Metro Ar...  225622415\n",
      "9   Philadelphia-Camden-Wilmington, PA-NJ-DE-MD Me...   54031170\n",
      "10  Dallas-Fort Worth-Arlington, TX Metro Area; Texas   88686850\n",
      "\n",
      "\n",
      "clean: commute\n",
      "           area    commute\n",
      "0       Atlanta   75949245\n",
      "1       Chicago  125086155\n",
      "2        Dallas   88686850\n",
      "3        Denver   36188125\n",
      "4       Detroit   49061055\n",
      "5   Los Angeles  171087545\n",
      "6         Miami   74035650\n",
      "7      New York  225622415\n",
      "8  Philadelphia   54031170\n",
      "\n",
      "\n",
      "final:\n",
      "  state          area latitude longitude population  commute/person\n",
      "0    GA       Atlanta  33.8477  -84.2814    5612777       13.531492\n",
      "1    IL       Chicago  41.9288  -87.6315    8656303       14.450298\n",
      "2    TX        Dallas  32.7825  -96.8207    6957123       12.747633\n",
      "3    CO        Denver  39.7525  -104.999    2752056       13.149487\n",
      "4    MI       Detroit  42.3679  -83.1386    4296731       11.418228\n",
      "5    CA   Los Angeles  34.0396  -118.266   13189366       12.971628\n",
      "6    FL         Miami  25.9388  -80.2144    5926955       12.491347\n",
      "7    NY      New York  40.7528  -73.9725   13380318       16.862261\n",
      "8    PA  Philadelphia  39.9524  -75.1653    4076378       13.254701\n"
     ]
    },
    {
     "name": "stderr",
     "output_type": "stream",
     "text": [
      "/anaconda3/envs/PythonData/lib/python3.6/site-packages/ipykernel/__main__.py:13: FutureWarning: \n",
      "Passing list-likes to .loc or [] with any missing label will raise\n",
      "KeyError in the future, you can use .reindex() as an alternative.\n",
      "\n",
      "See the documentation here:\n",
      "http://pandas.pydata.org/pandas-docs/stable/indexing.html#deprecate-loc-reindex-listlike\n"
     ]
    }
   ],
   "source": [
    "# Global variables\n",
    "file_name = \"commute\"\n",
    "\n",
    "# Call functions and get latitudes and longitudes\n",
    "commute()"
   ]
  },
  {
   "cell_type": "markdown",
   "metadata": {},
   "source": [
    "# Gym numbers"
   ]
  },
  {
   "cell_type": "code",
   "execution_count": null,
   "metadata": {},
   "outputs": [],
   "source": []
  },
  {
   "cell_type": "code",
   "execution_count": 34,
   "metadata": {},
   "outputs": [
    {
     "data": {
      "text/plain": [
       "Index(['state', 'area', 'latitude', 'longitude', 'population',\n",
       "       'commute/person'],\n",
       "      dtype='object')"
      ]
     },
     "execution_count": 34,
     "metadata": {},
     "output_type": "execute_result"
    }
   ],
   "source": [
    "mega_df.columns"
   ]
  },
  {
   "cell_type": "code",
   "execution_count": 40,
   "metadata": {},
   "outputs": [
    {
     "name": "stdout",
     "output_type": "stream",
     "text": [
      "  state Metropolitan Area Latitude Longitude Population  \\\n",
      "0    GA           Atlanta  33.8477  -84.2814    5612777   \n",
      "1    IL           Chicago  41.9288  -87.6315    8656303   \n",
      "2    TX            Dallas  32.7825  -96.8207    6957123   \n",
      "3    CO            Denver  39.7525  -104.999    2752056   \n",
      "4    MI           Detroit  42.3679  -83.1386    4296731   \n",
      "5    CA       Los Angeles  34.0396  -118.266   13189366   \n",
      "6    FL             Miami  25.9388  -80.2144    5926955   \n",
      "7    NY          New York  40.7528  -73.9725   13380318   \n",
      "8    PA      Philadelphia  39.9524  -75.1653    4076378   \n",
      "\n",
      "   Average travel time to work of workers(minutes)  \n",
      "0                                        13.531492  \n",
      "1                                        14.450298  \n",
      "2                                        12.747633  \n",
      "3                                        13.149487  \n",
      "4                                        11.418228  \n",
      "5                                        12.971628  \n",
      "6                                        12.491347  \n",
      "7                                        16.862261  \n",
      "8                                        13.254701  \n"
     ]
    }
   ],
   "source": [
    "# Save dataframe to file\n",
    "mega_df.columns = [\"state\", \"Metropolitan Area\", \"Latitude\", \"Longitude\", \"Population\",\\\n",
    "                   \"Average travel time to work of workers(minutes)\"]\n",
    "print(mega_df)\n",
    "mega_df.to_csv(\"cleaning_output.csv\")"
   ]
  },
  {
   "cell_type": "code",
   "execution_count": null,
   "metadata": {},
   "outputs": [],
   "source": []
  },
  {
   "cell_type": "code",
   "execution_count": null,
   "metadata": {},
   "outputs": [],
   "source": []
  }
 ],
 "metadata": {
  "kernelspec": {
   "display_name": "Python [conda env:PythonData]",
   "language": "python",
   "name": "conda-env-PythonData-py"
  },
  "language_info": {
   "codemirror_mode": {
    "name": "ipython",
    "version": 3
   },
   "file_extension": ".py",
   "mimetype": "text/x-python",
   "name": "python",
   "nbconvert_exporter": "python",
   "pygments_lexer": "ipython3",
   "version": "3.6.4"
  }
 },
 "nbformat": 4,
 "nbformat_minor": 2
}
